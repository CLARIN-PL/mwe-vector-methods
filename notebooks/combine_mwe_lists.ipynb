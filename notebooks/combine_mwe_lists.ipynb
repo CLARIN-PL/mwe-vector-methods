{
 "cells": [
  {
   "cell_type": "code",
   "execution_count": 1,
   "metadata": {},
   "outputs": [],
   "source": [
    "import os\n",
    "\n",
    "import pandas as pd"
   ]
  },
  {
   "cell_type": "code",
   "execution_count": 2,
   "metadata": {},
   "outputs": [],
   "source": [
    "df_kompozycyjne = pd.read_csv(os.path.join('..', 'storage', 'pl_wordnet', 'incorrect_MWE_kompozycyjne_polaczenia_plWN.csv'), sep=',', on_bad_lines='skip')\n",
    "df_with_nDD = pd.read_csv(os.path.join('..', 'storage', 'pl_wordnet', 'incorrect_mwe_with_nDD.tsv'), sep='\\t', on_bad_lines='skip')\n",
    "\n",
    "\n",
    "\n",
    "df_sztuczne_sense = pd.read_csv(os.path.join('..', 'storage', 'pl_wordnet', 'incorrect_sztuczne_sense.csv'), sep=',', on_bad_lines='skip')"
   ]
  },
  {
   "cell_type": "code",
   "execution_count": 39,
   "metadata": {},
   "outputs": [
    {
     "name": "stdout",
     "output_type": "stream",
     "text": [
      "Empty DataFrame\n",
      "Columns: [id, lemma, domain, pos, tagcount, source, status, comment, variant, project, owner, error_comment, verb_aspect, sense id, synset_id, synset, sense_id]\n",
      "Index: []\n",
      "        id                 lemma domain  pos  tagcount  source  status  \\\n",
      "10678  NaN  konserwator zabytków    NaN  2.0       NaN     NaN     NaN   \n",
      "\n",
      "                                                 comment variant project  \\\n",
      "10678  ##K: og. ##D: osoba zajmująca się konserwacją,...     1.0     NaN   \n",
      "\n",
      "      owner error_comment verb_aspect sense id  synset_id synset  sense_id  \n",
      "10678   NaN           NaN         NaN   672119        NaN    NaN       NaN  \n",
      "[5203, 10678]\n"
     ]
    }
   ],
   "source": [
    "for df in [df_kompozycyjne, df_with_nDD, df_sztuczne_sense]:\n",
    "    df.columns= df.columns.str.lower()\n",
    "\n",
    "df = df_kompozycyjne\n",
    "\n",
    "df = df.append(df_with_nDD, ignore_index = True)\n",
    "\n",
    "df = df.append(df_sztuczne_sense, ignore_index = True)\n",
    "\n",
    "df = df.loc[df.lemma.str.len() > 2, :]\n",
    "\n",
    "# print(df.loc[df.lemma.str.len() == 0, :])\n",
    "\n",
    "# print(df.loc[df.index.isin([10678]), :])\n",
    "\n",
    "# print(df.index[df.lemma == 'konserwator zabytków'].tolist())\n",
    "\n",
    "df.to_csv(os.path.join('..', 'storage', 'pl_wordnet', 'incorrect_kompozycyjne_with_nDD_sztuczne_sense.tsv'), sep='\\t')\n"
   ]
  },
  {
   "cell_type": "code",
   "execution_count": 50,
   "metadata": {},
   "outputs": [
    {
     "name": "stdout",
     "output_type": "stream",
     "text": [
      "[5201, 10362]\n"
     ]
    },
    {
     "data": {
      "text/html": [
       "<div>\n",
       "<style scoped>\n",
       "    .dataframe tbody tr th:only-of-type {\n",
       "        vertical-align: middle;\n",
       "    }\n",
       "\n",
       "    .dataframe tbody tr th {\n",
       "        vertical-align: top;\n",
       "    }\n",
       "\n",
       "    .dataframe thead th {\n",
       "        text-align: right;\n",
       "    }\n",
       "</style>\n",
       "<table border=\"1\" class=\"dataframe\">\n",
       "  <thead>\n",
       "    <tr style=\"text-align: right;\">\n",
       "      <th></th>\n",
       "      <th>Unnamed: 0</th>\n",
       "      <th>id</th>\n",
       "      <th>lemma</th>\n",
       "      <th>domain</th>\n",
       "      <th>pos</th>\n",
       "      <th>tagcount</th>\n",
       "      <th>source</th>\n",
       "      <th>status</th>\n",
       "      <th>comment</th>\n",
       "      <th>variant</th>\n",
       "      <th>project</th>\n",
       "      <th>owner</th>\n",
       "      <th>error_comment</th>\n",
       "      <th>verb_aspect</th>\n",
       "      <th>sense id</th>\n",
       "      <th>synset_id</th>\n",
       "      <th>synset</th>\n",
       "      <th>sense_id</th>\n",
       "    </tr>\n",
       "  </thead>\n",
       "  <tbody>\n",
       "    <tr>\n",
       "      <th>5200</th>\n",
       "      <td>5203</td>\n",
       "      <td>672119</td>\n",
       "      <td>konserwator zabytków</td>\n",
       "      <td>15</td>\n",
       "      <td>2.0</td>\n",
       "      <td>0.0</td>\n",
       "      <td>1.0</td>\n",
       "      <td>0.0</td>\n",
       "      <td>##K: og. ##D: osoba zajmująca się konserwacją,...</td>\n",
       "      <td>1</td>\n",
       "      <td>2</td>\n",
       "      <td>Natalia.Kościńska</td>\n",
       "      <td>NaN</td>\n",
       "      <td>0</td>\n",
       "      <td>NaN</td>\n",
       "      <td>NaN</td>\n",
       "      <td>NaN</td>\n",
       "      <td>NaN</td>\n",
       "    </tr>\n",
       "    <tr>\n",
       "      <th>5201</th>\n",
       "      <td>5204</td>\n",
       "      <td>673657</td>\n",
       "      <td>kwota importowa</td>\n",
       "      <td>20</td>\n",
       "      <td>2.0</td>\n",
       "      <td>0.0</td>\n",
       "      <td>1.0</td>\n",
       "      <td>0.0</td>\n",
       "      <td>##K: specj. ##D: ograniczenie wielkości import...</td>\n",
       "      <td>1</td>\n",
       "      <td>2</td>\n",
       "      <td>Martyna.Kaźmierczak</td>\n",
       "      <td>NaN</td>\n",
       "      <td>0</td>\n",
       "      <td>NaN</td>\n",
       "      <td>NaN</td>\n",
       "      <td>NaN</td>\n",
       "      <td>NaN</td>\n",
       "    </tr>\n",
       "  </tbody>\n",
       "</table>\n",
       "</div>"
      ],
      "text/plain": [
       "      Unnamed: 0      id                 lemma domain  pos  tagcount  source  \\\n",
       "5200        5203  672119  konserwator zabytków     15  2.0       0.0     1.0   \n",
       "5201        5204  673657       kwota importowa     20  2.0       0.0     1.0   \n",
       "\n",
       "      status                                            comment variant  \\\n",
       "5200     0.0  ##K: og. ##D: osoba zajmująca się konserwacją,...       1   \n",
       "5201     0.0  ##K: specj. ##D: ograniczenie wielkości import...       1   \n",
       "\n",
       "     project                owner error_comment verb_aspect  sense id  \\\n",
       "5200       2    Natalia.Kościńska           NaN           0       NaN   \n",
       "5201       2  Martyna.Kaźmierczak           NaN           0       NaN   \n",
       "\n",
       "      synset_id synset  sense_id  \n",
       "5200        NaN    NaN       NaN  \n",
       "5201        NaN    NaN       NaN  "
      ]
     },
     "execution_count": 50,
     "metadata": {},
     "output_type": "execute_result"
    }
   ],
   "source": [
    "df = pd.read_csv(os.path.join('..', 'storage', 'pl_wordnet', 'incorrect_kompozycyjne_with_nDD_sztuczne_sense.tsv'), sep='\\t')\n",
    "\n",
    "print(df.index[df.lemma == 'kwota importowa'].tolist())\n",
    "\n",
    "df.iloc[[5200, 5201], :]"
   ]
  },
  {
   "cell_type": "code",
   "execution_count": 54,
   "metadata": {},
   "outputs": [],
   "source": [
    "df_corr = pd.read_csv(os.path.join('..', 'storage', 'pl_wordnet', 'correct_mwe_without_nDD.tsv'), sep='\\t')\n",
    "df_corr['is_correct'] = 1\n",
    "\n",
    "df_incorr = pd.read_csv(os.path.join('..', 'storage', 'pl_wordnet', 'incorrect_kompozycyjne_with_nDD_sztuczne_sense.tsv'), sep='\\t')\n",
    "df_incorr['is_correct'] = 0\n",
    "\n",
    "for df in [df_corr, df_incorr]:\n",
    "    df.columns= df.columns.str.lower()\n",
    "\n",
    "df = df_corr\n",
    "\n",
    "df = df.append(df_incorr, ignore_index=True)\n",
    "\n",
    "df.to_csv(os.path.join('..', 'storage', 'pl_wordnet', 'all_correct_without_nDD_incorrect_kompozycyjne_with_nDD_sztuczne_sense.tsv'), sep='\\t', index=False)"
   ]
  },
  {
   "cell_type": "code",
   "execution_count": null,
   "metadata": {},
   "outputs": [],
   "source": []
  }
 ],
 "metadata": {
  "interpreter": {
   "hash": "ed0e62fcffcbe394f731cea46f2165e217aacd1d321b1b1cabb24840ab27ecb0"
  },
  "kernelspec": {
   "display_name": "Python 3.7.9 ('venv': venv)",
   "language": "python",
   "name": "python3"
  },
  "language_info": {
   "codemirror_mode": {
    "name": "ipython",
    "version": 3
   },
   "file_extension": ".py",
   "mimetype": "text/x-python",
   "name": "python",
   "nbconvert_exporter": "python",
   "pygments_lexer": "ipython3",
   "version": "3.7.9"
  },
  "orig_nbformat": 4
 },
 "nbformat": 4,
 "nbformat_minor": 2
}
