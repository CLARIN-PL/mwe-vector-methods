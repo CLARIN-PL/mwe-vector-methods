{
 "cells": [
  {
   "cell_type": "code",
   "execution_count": 2,
   "metadata": {},
   "outputs": [],
   "source": [
    "import os\n",
    "\n",
    "import pandas as pd"
   ]
  },
  {
   "cell_type": "code",
   "execution_count": 20,
   "metadata": {},
   "outputs": [
    {
     "data": {
      "text/html": [
       "<div>\n",
       "<style scoped>\n",
       "    .dataframe tbody tr th:only-of-type {\n",
       "        vertical-align: middle;\n",
       "    }\n",
       "\n",
       "    .dataframe tbody tr th {\n",
       "        vertical-align: top;\n",
       "    }\n",
       "\n",
       "    .dataframe thead th {\n",
       "        text-align: right;\n",
       "    }\n",
       "</style>\n",
       "<table border=\"1\" class=\"dataframe\">\n",
       "  <thead>\n",
       "    <tr style=\"text-align: right;\">\n",
       "      <th></th>\n",
       "      <th>0</th>\n",
       "      <th>1</th>\n",
       "      <th>2</th>\n",
       "      <th>3</th>\n",
       "    </tr>\n",
       "  </thead>\n",
       "  <tbody>\n",
       "    <tr>\n",
       "      <th>0</th>\n",
       "      <td>south america</td>\n",
       "      <td>en</td>\n",
       "      <td>SPACE</td>\n",
       "      <td>16</td>\n",
       "    </tr>\n",
       "    <tr>\n",
       "      <th>1</th>\n",
       "      <td>new zealand</td>\n",
       "      <td>en</td>\n",
       "      <td>SPACE</td>\n",
       "      <td>16</td>\n",
       "    </tr>\n",
       "    <tr>\n",
       "      <th>2</th>\n",
       "      <td>carbon dioxide</td>\n",
       "      <td>en</td>\n",
       "      <td>SPACE</td>\n",
       "      <td>16</td>\n",
       "    </tr>\n",
       "    <tr>\n",
       "      <th>3</th>\n",
       "      <td>solar energy</td>\n",
       "      <td>en</td>\n",
       "      <td>SPACE</td>\n",
       "      <td>15</td>\n",
       "    </tr>\n",
       "    <tr>\n",
       "      <th>4</th>\n",
       "      <td>sierra leone</td>\n",
       "      <td>en</td>\n",
       "      <td>SPACE</td>\n",
       "      <td>15</td>\n",
       "    </tr>\n",
       "    <tr>\n",
       "      <th>...</th>\n",
       "      <td>...</td>\n",
       "      <td>...</td>\n",
       "      <td>...</td>\n",
       "      <td>...</td>\n",
       "    </tr>\n",
       "    <tr>\n",
       "      <th>374616</th>\n",
       "      <td>100-meter dash</td>\n",
       "      <td>en</td>\n",
       "      <td>- SPACE</td>\n",
       "      <td>2</td>\n",
       "    </tr>\n",
       "    <tr>\n",
       "      <th>374617</th>\n",
       "      <td>0th law of thermodynamics</td>\n",
       "      <td>en</td>\n",
       "      <td>SPACE</td>\n",
       "      <td>2</td>\n",
       "    </tr>\n",
       "    <tr>\n",
       "      <th>374618</th>\n",
       "      <td>0-</td>\n",
       "      <td>en</td>\n",
       "      <td>-</td>\n",
       "      <td>2</td>\n",
       "    </tr>\n",
       "    <tr>\n",
       "      <th>374619</th>\n",
       "      <td>0800 number</td>\n",
       "      <td>en</td>\n",
       "      <td>SPACE</td>\n",
       "      <td>2</td>\n",
       "    </tr>\n",
       "    <tr>\n",
       "      <th>374620</th>\n",
       "      <td>0/1 knapsack problem</td>\n",
       "      <td>en</td>\n",
       "      <td>/ SPACE</td>\n",
       "      <td>2</td>\n",
       "    </tr>\n",
       "  </tbody>\n",
       "</table>\n",
       "<p>374621 rows × 4 columns</p>\n",
       "</div>"
      ],
      "text/plain": [
       "                                0   1        2   3\n",
       "0                   south america  en    SPACE  16\n",
       "1                     new zealand  en    SPACE  16\n",
       "2                  carbon dioxide  en    SPACE  16\n",
       "3                    solar energy  en    SPACE  15\n",
       "4                    sierra leone  en    SPACE  15\n",
       "...                           ...  ..      ...  ..\n",
       "374616             100-meter dash  en  - SPACE   2\n",
       "374617  0th law of thermodynamics  en    SPACE   2\n",
       "374618                         0-  en        -   2\n",
       "374619                0800 number  en    SPACE   2\n",
       "374620       0/1 knapsack problem  en  / SPACE   2\n",
       "\n",
       "[374621 rows x 4 columns]"
      ]
     },
     "execution_count": 20,
     "metadata": {},
     "output_type": "execute_result"
    }
   ],
   "source": [
    "princeton_df_path = os.path.join('..', 'storage', 'misc', 'mwe_mwe-lists_Princeton-WN_princeton-wn_eng_phrases-with-lbl-info.tsv')\n",
    "\n",
    "princeton_df = pd.read_csv(princeton_df_path, sep='\\t', header=None)\n",
    "\n",
    "summary_df_path = os.path.join('..', 'storage', 'misc', 'mwe_mwe-lists_SUMMARY_mwe-all-sources-with-lbl-info-non-words-popular-en-unique.tsv')\n",
    "\n",
    "summary_df = pd.read_csv(summary_df_path, sep='\\t', header=None)\n",
    "\n",
    "summary_df"
   ]
  },
  {
   "cell_type": "code",
   "execution_count": 22,
   "metadata": {},
   "outputs": [
    {
     "name": "stdout",
     "output_type": "stream",
     "text": [
      "summary_df len before filtering: 339619\n",
      "summary_df len after filtering: 339619\n"
     ]
    }
   ],
   "source": [
    "princeton_mwe_list = princeton_df.iloc[:, 0].tolist()\n",
    "\n",
    "print(f'summary_df len before filtering: {len(summary_df)}')\n",
    "\n",
    "summary_df = summary_df[~summary_df[0].isin(princeton_mwe_list)]\n",
    "\n",
    "print(f'summary_df len after filtering: {len(summary_df)}')\n",
    "\n",
    "output_filepath = os.path.join('..', 'storage', 'misc', 'mwe_mwe-lists_SUMMARY_mwe-all-sources-except-princeton-wn-with-lbl-info-non-words-popular-en-unique.tsv')\n",
    "\n",
    "summary_df.to_csv(output_filepath, sep='\\t', index=False)"
   ]
  }
 ],
 "metadata": {
  "interpreter": {
   "hash": "df0893f56f349688326838aaeea0de204df53a132722cbd565e54b24a8fec5f6"
  },
  "kernelspec": {
   "display_name": "Python 3.8.12 64-bit",
   "language": "python",
   "name": "python3"
  },
  "language_info": {
   "codemirror_mode": {
    "name": "ipython",
    "version": 3
   },
   "file_extension": ".py",
   "mimetype": "text/x-python",
   "name": "python",
   "nbconvert_exporter": "python",
   "pygments_lexer": "ipython3",
   "version": "3.8.10"
  },
  "orig_nbformat": 4
 },
 "nbformat": 4,
 "nbformat_minor": 2
}
