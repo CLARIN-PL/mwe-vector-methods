{
 "cells": [
  {
   "cell_type": "code",
   "execution_count": 18,
   "metadata": {},
   "outputs": [],
   "source": [
    "import os\n",
    "\n",
    "from nltk import BigramCollocationFinder\n",
    "from nltk.corpus.reader import BNCCorpusReader\n",
    "from nltk.collocations import BigramAssocMeasures"
   ]
  },
  {
   "cell_type": "code",
   "execution_count": 14,
   "metadata": {},
   "outputs": [],
   "source": [
    "# read British National Corpus\n",
    "\n",
    "bnc_texts_dir = os.path.join('..', 'storage', 'bnc', 'raw_data', 'BNC', 'Texts')\n",
    "\n",
    "bnc_reader = BNCCorpusReader(root=bnc_texts_dir, fileids=r'[A-K]/\\w*/\\w*\\.xml')"
   ]
  },
  {
   "cell_type": "code",
   "execution_count": 15,
   "metadata": {},
   "outputs": [],
   "source": [
    "# import bigram association measures\n",
    "\n",
    "bigram_mesures = BigramAssocMeasures()\n",
    "\n",
    "pmi = bigram_mesures.pmi\n",
    "dice = bigram_mesures.dice\n",
    "chi2 = bigram_mesures.chi_sq"
   ]
  },
  {
   "cell_type": "code",
   "execution_count": 19,
   "metadata": {},
   "outputs": [],
   "source": [
    "bnc_reader.sents()\n",
    "\n",
    "finder = BigramCollocationFinder.from_documents(bnc_reader.sents())\n",
    "finder = BigramCollocationFinder.from_words(bnc_reader.words())\n",
    "\n",
    "finder.nbest(pmi, 10)\n"
   ]
  }
 ],
 "metadata": {
  "interpreter": {
   "hash": "ed0e62fcffcbe394f731cea46f2165e217aacd1d321b1b1cabb24840ab27ecb0"
  },
  "kernelspec": {
   "display_name": "Python 3.7.9 ('venv': venv)",
   "language": "python",
   "name": "python3"
  },
  "language_info": {
   "codemirror_mode": {
    "name": "ipython",
    "version": 3
   },
   "file_extension": ".py",
   "mimetype": "text/x-python",
   "name": "python",
   "nbconvert_exporter": "python",
   "pygments_lexer": "ipython3",
   "version": "3.8.5"
  },
  "orig_nbformat": 4
 },
 "nbformat": 4,
 "nbformat_minor": 2
}
