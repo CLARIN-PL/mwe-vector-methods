{
 "cells": [
  {
   "cell_type": "code",
   "execution_count": 12,
   "metadata": {},
   "outputs": [],
   "source": [
    "import datetime\n",
    "import os\n",
    "import string\n",
    "\n",
    "from nltk import BigramCollocationFinder\n",
    "from nltk.corpus.reader import BNCCorpusReader\n",
    "from nltk.collocations import BigramAssocMeasures"
   ]
  },
  {
   "cell_type": "code",
   "execution_count": 13,
   "metadata": {},
   "outputs": [],
   "source": [
    "def get_curr_time():\n",
    "    return f'{datetime.datetime.now().strftime(\"%H:%M:%S\")}'"
   ]
  },
  {
   "cell_type": "code",
   "execution_count": 2,
   "metadata": {},
   "outputs": [],
   "source": [
    "# read British National Corpus\n",
    "\n",
    "bnc_texts_dir = os.path.join('..', 'storage', 'bnc', 'raw_data', 'BNC', 'Texts')\n",
    "\n",
    "bnc_reader = BNCCorpusReader(root=bnc_texts_dir, fileids=r'[A-K]/\\w*/\\w*\\.xml')"
   ]
  },
  {
   "cell_type": "code",
   "execution_count": 3,
   "metadata": {},
   "outputs": [],
   "source": [
    "# import bigram association measures\n",
    "\n",
    "bigram_measures = BigramAssocMeasures()\n",
    "\n",
    "measure_dict = {'pmi' : bigram_measures.pmi,\n",
    "                'dice' : bigram_measures.dice,\n",
    "                'chi2' : bigram_measures.chi_sq}"
   ]
  },
  {
   "cell_type": "code",
   "execution_count": 4,
   "metadata": {},
   "outputs": [],
   "source": [
    "# initialize finder and preprocess BNC corpus\n",
    "\n",
    "# treat each sentence as another document (find MWEs inside sentences)\n",
    "finder = BigramCollocationFinder.from_documents(bnc_reader.sents())\n",
    "\n",
    "# treat whole corpus as a long sentence (find MWEs inside and BETWEEN sentences)\n",
    "# finder = BigramCollocationFinder.from_words(bnc_reader.words())\n"
   ]
  },
  {
   "cell_type": "code",
   "execution_count": 5,
   "metadata": {},
   "outputs": [],
   "source": [
    "# check word correctness\n",
    "def check_word_correctness(word) -> bool:\n",
    "    if len(word) < 1:\n",
    "        return False\n",
    "\n",
    "    if any(char in string.punctuation for char in word):\n",
    "        return False\n",
    "\n",
    "    if any(char in ['`', '~', '‘', '—'] for char in word):\n",
    "        return False\n",
    "\n",
    "    if any(char.isdigit() for char in word):\n",
    "        return False\n",
    "\n",
    "    if word[0].isupper():\n",
    "        return False\n",
    "        \n",
    "    else:\n",
    "        return True"
   ]
  },
  {
   "cell_type": "code",
   "execution_count": 6,
   "metadata": {},
   "outputs": [],
   "source": [
    "# get number of occurrences for MWE\n",
    "def get_mwe_freq(mwe, freq_list):\n",
    "    # mwe_tuple = [mwe_tuple for mwe_tuple in freq_list if mwe_tuple[0] == mwe]\n",
    "    return freq_list[mwe]"
   ]
  },
  {
   "cell_type": "code",
   "execution_count": 7,
   "metadata": {},
   "outputs": [],
   "source": [
    "def save_mwe_list(mwe_list, measure_name, dataset_name, dataset_dir):\n",
    "    out_filepath = os.path.join(dataset_dir, f'{dataset_name}_{measure_name}_incorrect_mwe.tsv')\n",
    "    with open(out_filepath, 'w') as out_file:\n",
    "        out_file.write('\\t'.join(['first_word', 'second_word', 'measure_value', 'frequency']) + '\\n')\n",
    "\n",
    "        for mwe_tuple in mwe_list:\n",
    "            out_file.write('\\t'.join(mwe_tuple) + '\\n')"
   ]
  },
  {
   "cell_type": "code",
   "execution_count": 11,
   "metadata": {},
   "outputs": [
    {
     "name": "stdout",
     "output_type": "stream",
     "text": [
      "Generating incorrect MWEs list for pmi\n",
      "Generating incorrect MWEs list for dice\n",
      "Generating incorrect MWEs list for chi2\n"
     ]
    }
   ],
   "source": [
    "# get cleaned list of MWEs for specific measures\n",
    "\n",
    "dataset_name = 'bnc'\n",
    "dataset_dir = os.path.join('..', 'storage', dataset_name, 'preprocessed_data')\n",
    "\n",
    "for measure_name in measure_dict.keys():\n",
    "    print(f'{get_curr_time()} : Generating incorrect MWEs list for {measure_name}')\n",
    "\n",
    "    # get list of MWEs with spoecified measure\n",
    "    desc_mwe_list = finder.score_ngrams(measure_dict[measure_name])\n",
    "\n",
    "    # get frequencies of MWE\n",
    "    freq_mwe_list = {k: v for k, v in finder.ngram_fd.items()}\n",
    "\n",
    "    # clean list of MWEs\n",
    "    desc_mwe_list_cleaned = [mwe_tuple for mwe_tuple in desc_mwe_list[::-1] if all([check_word_correctness(mwe_word) for mwe_word in mwe_tuple[0]])][:100000]\n",
    "\n",
    "    # get list with MWE, measure value and frequency\n",
    "    mwe_with_freq = [[mwe_tuple[0][0], mwe_tuple[0][1], str(mwe_tuple[1]), str(get_mwe_freq(mwe_tuple[0], freq_mwe_list))] for mwe_tuple in desc_mwe_list_cleaned]\n",
    "\n",
    "    # save dataset\n",
    "    save_mwe_list(mwe_with_freq, measure_name, dataset_name, dataset_dir)"
   ]
  },
  {
   "cell_type": "code",
   "execution_count": 10,
   "metadata": {},
   "outputs": [
    {
     "data": {
      "text/plain": [
       "1"
      ]
     },
     "execution_count": 10,
     "metadata": {},
     "output_type": "execute_result"
    }
   ],
   "source": [
    "get_mwe_freq(('burps', 'last'), freq_mwe_list)"
   ]
  }
 ],
 "metadata": {
  "interpreter": {
   "hash": "ed0e62fcffcbe394f731cea46f2165e217aacd1d321b1b1cabb24840ab27ecb0"
  },
  "kernelspec": {
   "display_name": "Python 3.7.9 ('venv': venv)",
   "language": "python",
   "name": "python3"
  },
  "language_info": {
   "codemirror_mode": {
    "name": "ipython",
    "version": 3
   },
   "file_extension": ".py",
   "mimetype": "text/x-python",
   "name": "python",
   "nbconvert_exporter": "python",
   "pygments_lexer": "ipython3",
   "version": "3.8.5"
  },
  "orig_nbformat": 4
 },
 "nbformat": 4,
 "nbformat_minor": 2
}
