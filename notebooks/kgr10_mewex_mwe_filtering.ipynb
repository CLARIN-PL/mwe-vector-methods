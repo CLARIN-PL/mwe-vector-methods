{
 "cells": [
  {
   "cell_type": "code",
   "execution_count": 9,
   "metadata": {},
   "outputs": [],
   "source": [
    "import os\n",
    "\n",
    "import pandas as pd"
   ]
  },
  {
   "cell_type": "code",
   "execution_count": 10,
   "metadata": {},
   "outputs": [],
   "source": [
    "mewex_data_path = os.path.join('..', 'storage', 'kgr10_containing_mewex_results', 'prediction_results', 'cnn_train_kgr10_undersampled_ratio_1_3_fix_nDD_eval_kgr10_mewex_results_per_mwe.tsv')\n",
    "\n",
    "correct_mwe_path = os.path.join('..', 'storage', 'pl_wordnet', 'correct_mwe_without_nDD.tsv')\n",
    "\n",
    "incorrect_mwe_path = os.path.join('..', 'storage', 'pl_wordnet', 'incorrect_mwe_with_nDD.tsv')"
   ]
  },
  {
   "cell_type": "code",
   "execution_count": 11,
   "metadata": {},
   "outputs": [],
   "source": [
    "correct_mwe_df = pd.read_csv(correct_mwe_path, sep='\\t')\n",
    "incorrect_mwe_df = pd.read_csv(incorrect_mwe_path, sep='\\t')\n",
    "\n",
    "mwe_list = correct_mwe_df['Lemma'].tolist() + incorrect_mwe_df['lemma'].tolist()"
   ]
  },
  {
   "cell_type": "code",
   "execution_count": 12,
   "metadata": {},
   "outputs": [
    {
     "name": "stdout",
     "output_type": "stream",
     "text": [
      "Len of data df before filtering: 62470\n",
      "Len of data df after filtering: 60883\n",
      "Filtered out MWEs: 1587\n"
     ]
    }
   ],
   "source": [
    "data_df = pd.read_csv(mewex_data_path, sep='\\t')\n",
    "\n",
    "count_before_filtering = len(data_df)\n",
    "\n",
    "print(f'Len of data df before filtering: {count_before_filtering}')\n",
    "\n",
    "data_df = data_df[~data_df['mwe'].isin(mwe_list)]\n",
    "\n",
    "count_after_filtering = len(data_df)\n",
    "\n",
    "print(f'Len of data df after filtering: {count_after_filtering}',\n",
    "      f'Filtered out MWEs: {count_before_filtering - count_after_filtering}',\n",
    "      sep='\\n')"
   ]
  },
  {
   "cell_type": "code",
   "execution_count": 14,
   "metadata": {},
   "outputs": [],
   "source": [
    "result_path = '/'.join(mewex_data_path.split('.')[:-1]) + '_without_pl_wordnet_mwes.tsv'\n",
    "\n",
    "result_path = '/'.join(['..'] + result_path.split('/')[2:])\n",
    "\n",
    "data_df.to_csv(result_path, sep='\\t', index=False)"
   ]
  }
 ],
 "metadata": {
  "interpreter": {
   "hash": "dcd0d7a9c075bf4de9e65be86d488a63a29c0f40dafb2e721d2f255f90af328e"
  },
  "kernelspec": {
   "display_name": "Python 3.8.5 ('venv': venv)",
   "language": "python",
   "name": "python3"
  },
  "language_info": {
   "codemirror_mode": {
    "name": "ipython",
    "version": 3
   },
   "file_extension": ".py",
   "mimetype": "text/x-python",
   "name": "python",
   "nbconvert_exporter": "python",
   "pygments_lexer": "ipython3",
   "version": "3.8.5"
  },
  "orig_nbformat": 4
 },
 "nbformat": 4,
 "nbformat_minor": 2
}
