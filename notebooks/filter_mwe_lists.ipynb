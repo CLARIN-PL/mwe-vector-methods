{
 "cells": [
  {
   "cell_type": "code",
   "execution_count": 1,
   "metadata": {},
   "outputs": [],
   "source": [
    "import os\n",
    "\n",
    "import pandas as pd"
   ]
  },
  {
   "cell_type": "code",
   "execution_count": 5,
   "metadata": {},
   "outputs": [],
   "source": [
    "# load datasets\n",
    "\n",
    "corr_filepath = os.path.join('..', 'storage', 'pl_wordnet', 'correct_mwe.tsv')\n",
    "\n",
    "ndd_filepath = os.path.join('..', 'storage', 'pl_wordnet', 'incorrect_mwe_with_nDD.tsv')\n",
    "\n",
    "df_corr = pd.read_csv(corr_filepath, sep='\\t')\n",
    "\n",
    "df_ndd = pd.read_csv(ndd_filepath, sep='\\t')"
   ]
  },
  {
   "cell_type": "code",
   "execution_count": 12,
   "metadata": {},
   "outputs": [],
   "source": [
    "# filter dataframe\n",
    "\n",
    "ndd_mwe_list = df_ndd['lemma'].tolist()\n",
    "\n",
    "df_corr_filtered = df_corr[~df_corr['Lemma'].isin(ndd_mwe_list)]"
   ]
  },
  {
   "cell_type": "code",
   "execution_count": 13,
   "metadata": {},
   "outputs": [],
   "source": [
    "# save dataframe to CSV file\n",
    "\n",
    "output_filepath = os.path.join('..', 'storage', 'pl_wordnet', 'correct_mwe_without_nDD.tsv')\n",
    "\n",
    "df_corr_filtered.to_csv(output_filepath, sep='\\t', index=False)"
   ]
  }
 ],
 "metadata": {
  "interpreter": {
   "hash": "ed0e62fcffcbe394f731cea46f2165e217aacd1d321b1b1cabb24840ab27ecb0"
  },
  "kernelspec": {
   "display_name": "Python 3.7.9 ('venv': venv)",
   "language": "python",
   "name": "python3"
  },
  "language_info": {
   "codemirror_mode": {
    "name": "ipython",
    "version": 3
   },
   "file_extension": ".py",
   "mimetype": "text/x-python",
   "name": "python",
   "nbconvert_exporter": "python",
   "pygments_lexer": "ipython3",
   "version": "3.7.9"
  },
  "orig_nbformat": 4
 },
 "nbformat": 4,
 "nbformat_minor": 2
}
