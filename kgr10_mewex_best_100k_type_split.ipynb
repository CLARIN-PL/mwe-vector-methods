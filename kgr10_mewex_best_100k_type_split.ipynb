{
 "cells": [
  {
   "cell_type": "code",
   "execution_count": 1,
   "id": "d119bf39-0f3d-488f-a5e5-d35683eceb5d",
   "metadata": {},
   "outputs": [],
   "source": [
    "import pandas as pd"
   ]
  },
  {
   "cell_type": "code",
   "execution_count": 2,
   "id": "c8551d1d-b219-4384-a7c9-eb405f24cbdb",
   "metadata": {},
   "outputs": [
    {
     "data": {
      "text/html": [
       "<div>\n",
       "<style scoped>\n",
       "    .dataframe tbody tr th:only-of-type {\n",
       "        vertical-align: middle;\n",
       "    }\n",
       "\n",
       "    .dataframe tbody tr th {\n",
       "        vertical-align: top;\n",
       "    }\n",
       "\n",
       "    .dataframe thead th {\n",
       "        text-align: right;\n",
       "    }\n",
       "</style>\n",
       "<table border=\"1\" class=\"dataframe\">\n",
       "  <thead>\n",
       "    <tr style=\"text-align: right;\">\n",
       "      <th></th>\n",
       "      <th>assoc_measure</th>\n",
       "      <th>type</th>\n",
       "      <th>mwe</th>\n",
       "      <th>is_correct</th>\n",
       "    </tr>\n",
       "  </thead>\n",
       "  <tbody>\n",
       "    <tr>\n",
       "      <th>0</th>\n",
       "      <td>5806.059447</td>\n",
       "      <td>PRZYMIOTNIK + RZECZOWNIK (uzgodnienie)</td>\n",
       "      <td>bestialską hałotą</td>\n",
       "      <td>0</td>\n",
       "    </tr>\n",
       "    <tr>\n",
       "      <th>1</th>\n",
       "      <td>5806.044452</td>\n",
       "      <td>RZECZOWNIK + RZECZOWNIK</td>\n",
       "      <td>Ska Band</td>\n",
       "      <td>1</td>\n",
       "    </tr>\n",
       "    <tr>\n",
       "      <th>2</th>\n",
       "      <td>5806.040728</td>\n",
       "      <td>RZECZOWNIK + PRZYMIOTNIK (uzgodnienie)</td>\n",
       "      <td>egzaminu kwalifikacyjnego</td>\n",
       "      <td>1</td>\n",
       "    </tr>\n",
       "    <tr>\n",
       "      <th>3</th>\n",
       "      <td>5806.038038</td>\n",
       "      <td>RZECZOWNIK + RZECZOWNIK</td>\n",
       "      <td>płatności bezstykowe</td>\n",
       "      <td>0</td>\n",
       "    </tr>\n",
       "    <tr>\n",
       "      <th>4</th>\n",
       "      <td>5806.036430</td>\n",
       "      <td>RZECZOWNIK + PRZYMIOTNIK (uzgodnienie)</td>\n",
       "      <td>Zbiorniki trzywarstwowe</td>\n",
       "      <td>0</td>\n",
       "    </tr>\n",
       "    <tr>\n",
       "      <th>...</th>\n",
       "      <td>...</td>\n",
       "      <td>...</td>\n",
       "      <td>...</td>\n",
       "      <td>...</td>\n",
       "    </tr>\n",
       "    <tr>\n",
       "      <th>99995</th>\n",
       "      <td>3063.755478</td>\n",
       "      <td>RZECZOWNIK + PRZYMIOTNIK (uzgodnienie)</td>\n",
       "      <td>piłki nożnej</td>\n",
       "      <td>0</td>\n",
       "    </tr>\n",
       "    <tr>\n",
       "      <th>99996</th>\n",
       "      <td>3011.474680</td>\n",
       "      <td>RZECZOWNIK + RZECZOWNIK</td>\n",
       "      <td>Jana Pawła</td>\n",
       "      <td>1</td>\n",
       "    </tr>\n",
       "    <tr>\n",
       "      <th>99997</th>\n",
       "      <td>2970.043913</td>\n",
       "      <td>RZECZOWNIK + PRZYMIOTNIK (uzgodnienie)</td>\n",
       "      <td>Unii Europejskiej</td>\n",
       "      <td>1</td>\n",
       "    </tr>\n",
       "    <tr>\n",
       "      <th>99998</th>\n",
       "      <td>2950.099963</td>\n",
       "      <td>RZECZOWNIK + RZECZOWNIK</td>\n",
       "      <td>Gromadzę tłuszczyk</td>\n",
       "      <td>1</td>\n",
       "    </tr>\n",
       "    <tr>\n",
       "      <th>99999</th>\n",
       "      <td>2950.099963</td>\n",
       "      <td>RZECZOWNIK + RZECZOWNIK</td>\n",
       "      <td>Piekielnie inteligentny</td>\n",
       "      <td>1</td>\n",
       "    </tr>\n",
       "  </tbody>\n",
       "</table>\n",
       "<p>100000 rows × 4 columns</p>\n",
       "</div>"
      ],
      "text/plain": [
       "       assoc_measure                                    type  \\\n",
       "0        5806.059447  PRZYMIOTNIK + RZECZOWNIK (uzgodnienie)   \n",
       "1        5806.044452                 RZECZOWNIK + RZECZOWNIK   \n",
       "2        5806.040728  RZECZOWNIK + PRZYMIOTNIK (uzgodnienie)   \n",
       "3        5806.038038                 RZECZOWNIK + RZECZOWNIK   \n",
       "4        5806.036430  RZECZOWNIK + PRZYMIOTNIK (uzgodnienie)   \n",
       "...              ...                                     ...   \n",
       "99995    3063.755478  RZECZOWNIK + PRZYMIOTNIK (uzgodnienie)   \n",
       "99996    3011.474680                 RZECZOWNIK + RZECZOWNIK   \n",
       "99997    2970.043913  RZECZOWNIK + PRZYMIOTNIK (uzgodnienie)   \n",
       "99998    2950.099963                 RZECZOWNIK + RZECZOWNIK   \n",
       "99999    2950.099963                 RZECZOWNIK + RZECZOWNIK   \n",
       "\n",
       "                             mwe  is_correct  \n",
       "0              bestialską hałotą           0  \n",
       "1                       Ska Band           1  \n",
       "2      egzaminu kwalifikacyjnego           1  \n",
       "3           płatności bezstykowe           0  \n",
       "4        Zbiorniki trzywarstwowe           0  \n",
       "...                          ...         ...  \n",
       "99995               piłki nożnej           0  \n",
       "99996                 Jana Pawła           1  \n",
       "99997          Unii Europejskiej           1  \n",
       "99998         Gromadzę tłuszczyk           1  \n",
       "99999    Piekielnie inteligentny           1  \n",
       "\n",
       "[100000 rows x 4 columns]"
      ]
     },
     "execution_count": 2,
     "metadata": {},
     "output_type": "execute_result"
    }
   ],
   "source": [
    "df = pd.read_csv('scaled_vector_association_measure_correct_mwe_best_f1_with_lr_prediction.tsv', sep='\\t')\n",
    "\n",
    "df"
   ]
  },
  {
   "cell_type": "code",
   "execution_count": 3,
   "id": "3de87df1-3061-4ba0-be4f-8d7bd7e017d2",
   "metadata": {},
   "outputs": [
    {
     "data": {
      "text/plain": [
       "6"
      ]
     },
     "execution_count": 3,
     "metadata": {},
     "output_type": "execute_result"
    }
   ],
   "source": [
    "len(set(df['type']))"
   ]
  }
 ],
 "metadata": {
  "kernelspec": {
   "display_name": "venv",
   "language": "python",
   "name": "venv"
  },
  "language_info": {
   "codemirror_mode": {
    "name": "ipython",
    "version": 3
   },
   "file_extension": ".py",
   "mimetype": "text/x-python",
   "name": "python",
   "nbconvert_exporter": "python",
   "pygments_lexer": "ipython3",
   "version": "3.7.2"
  }
 },
 "nbformat": 4,
 "nbformat_minor": 5
}
