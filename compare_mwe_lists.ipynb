{
 "cells": [
  {
   "cell_type": "code",
   "execution_count": 9,
   "id": "a3e76bda-e962-404c-906b-0900f40d256f",
   "metadata": {},
   "outputs": [],
   "source": [
    "import os\n",
    "import string\n",
    "\n",
    "import morfeusz2\n",
    "import pandas as pd\n",
    "\n",
    "from typing import List"
   ]
  },
  {
   "cell_type": "markdown",
   "id": "75b851c6-3867-4d01-9091-57dcd0faeb88",
   "metadata": {
    "tags": []
   },
   "source": [
    "<h4>Load MWE lists</h4>"
   ]
  },
  {
   "cell_type": "code",
   "execution_count": 2,
   "id": "67779958-0edb-44f0-b53a-4983206aff76",
   "metadata": {},
   "outputs": [],
   "source": [
    "parseme_correct_mwe_filepath = os.path.join('PARSEME_1.2_Polish_Dataset', 'PL', 'train_df.tsv')\n",
    "parseme_incorrect_mwe_filepath = 'parseme_incorrect_mwes.tsv'\n",
    "\n",
    "kgr10_correct_mwe_filepath = 'correct_mwe.tsv'\n",
    "kgr10_incorrect_mwe_filepath = 'incorrect_MWE_kompozycyjne_polaczenia_plWN.csv'"
   ]
  },
  {
   "cell_type": "code",
   "execution_count": 3,
   "id": "713e4264-4b63-4aad-bdeb-7aec8026540d",
   "metadata": {},
   "outputs": [
    {
     "name": "stdout",
     "output_type": "stream",
     "text": [
      "PARSEME correct MWE: 3859\n",
      "PARSEME incorrect MWE: 29027\n",
      "KGR10 correct MWE: 53978\n",
      "KGR10 incorrect MWE: 5249\n"
     ]
    }
   ],
   "source": [
    "parseme_train_correct_df = pd.read_csv(parseme_correct_mwe_filepath, sep='\\t')\n",
    "parseme_train_correct_df = parseme_train_correct_df[parseme_train_correct_df['parseme:mwe'] != '*']\n",
    "parseme_train_correct_mwe_list = []\n",
    "parseme_train_correct_mwe_list_lemmatized = []\n",
    "\n",
    "first_word_id = 0\n",
    "curr_word_id = 0\n",
    "curr_sent_id = 0\n",
    "mwe_words_list = []\n",
    "mwe_lemmas_list = []\n",
    "\n",
    "for ind, row in parseme_train_correct_df.iterrows():\n",
    "    if len(row['parseme:mwe']) > 1:\n",
    "        if len(mwe_words_list) > 1:\n",
    "            parseme_train_correct_mwe_list.append(' '.join(mwe_words_list))\n",
    "            parseme_train_correct_mwe_list_lemmatized.append(' '.join(mwe_lemmas_list))\n",
    "        \n",
    "        first_word_id = int(row['id'])\n",
    "        curr_word_id = int(row['id'])\n",
    "        curr_sent_id = int(row['sent_id'])\n",
    "\n",
    "        mwe_words_list = [row['form']]\n",
    "        mwe_lemmas_list = [row['lemma']]\n",
    "        \n",
    "    if len(row['parseme:mwe']) == 1:\n",
    "        if int(row['sent_id']) == curr_sent_id and int(row['id']) == curr_word_id + 1:\n",
    "            curr_word_id = int(row['id'])\n",
    "            curr_sent_id = int(row['sent_id'])\n",
    "        \n",
    "            mwe_words_list.append(row['form'])\n",
    "            mwe_lemmas_list.append(row['lemma'])\n",
    "\n",
    "parseme_train_incorrect_mwe_df = pd.read_csv(parseme_incorrect_mwe_filepath, sep='\\t')\n",
    "parseme_train_incorrect_mwe_list = [' '.join([str(first_word).lower(), str(second_word).lower()]) for first_word, second_word in zip(parseme_train_incorrect_mwe_df['first_word'].tolist(), parseme_train_incorrect_mwe_df['second_word'].tolist())]\n",
    "\n",
    "kgr10_correct_mwe_df = pd.read_csv(kgr10_correct_mwe_filepath, sep='\\t')\n",
    "kgr10_correct_mwe_list = [mwe.lower() for mwe in kgr10_correct_mwe_df['Lemma'].tolist()]\n",
    "\n",
    "kgr10_incorrect_mwe_df = pd.read_csv(kgr10_incorrect_mwe_filepath, sep=',', on_bad_lines='skip')\n",
    "kgr10_incorrect_mwe_list = [mwe.lower() for mwe in kgr10_incorrect_mwe_df['lemma'].tolist()]\n",
    "\n",
    "print(f'PARSEME correct MWE: {len(parseme_train_correct_mwe_list)}',\n",
    "      f'PARSEME incorrect MWE: {len(parseme_train_incorrect_mwe_list)}',\n",
    "      f'KGR10 correct MWE: {len(kgr10_correct_mwe_list)}',\n",
    "      f'KGR10 incorrect MWE: {len(kgr10_incorrect_mwe_list)}',\n",
    "      sep='\\n')"
   ]
  },
  {
   "cell_type": "markdown",
   "id": "fa700c25-d3ef-4ce4-8e15-12a686bac2f2",
   "metadata": {},
   "source": [
    "<h4>Compare MWE lists</h4>"
   ]
  },
  {
   "cell_type": "code",
   "execution_count": 4,
   "id": "bc2228ff-6e3a-4878-b08d-fb11377ce20d",
   "metadata": {},
   "outputs": [
    {
     "name": "stdout",
     "output_type": "stream",
     "text": [
      "KGR10 correct intersection PARSEME correct: 127\n",
      "KGR10 correct intersection PARSEME incorrect: 408\n",
      "KGR10 incorrect intersection PARSEME correct: 5\n",
      "KGR10 incorrect intersection PARSEME incorrect: 41\n"
     ]
    }
   ],
   "source": [
    "# compare without lemmatization\n",
    "kgr10_corr_parseme_corr_intersect = set(kgr10_correct_mwe_list).intersection(set(parseme_train_correct_mwe_list))\n",
    "kgr10_corr_parseme_incorr_intersect = set(kgr10_correct_mwe_list).intersection(set(parseme_train_incorrect_mwe_list))\n",
    "\n",
    "kgr10_incorr_parseme_corr_intersect = set(kgr10_incorrect_mwe_list).intersection(set(parseme_train_correct_mwe_list))\n",
    "kgr10_incorr_parseme_incorr_intersect = set(kgr10_incorrect_mwe_list).intersection(set(parseme_train_incorrect_mwe_list))\n",
    "\n",
    "print(f'KGR10 correct intersection PARSEME correct: {len(kgr10_corr_parseme_corr_intersect)}',\n",
    "      f'KGR10 correct intersection PARSEME incorrect: {len(kgr10_corr_parseme_incorr_intersect)}',\n",
    "      f'KGR10 incorrect intersection PARSEME correct: {len(kgr10_incorr_parseme_corr_intersect)}',\n",
    "      f'KGR10 incorrect intersection PARSEME incorrect: {len(kgr10_incorr_parseme_incorr_intersect)}',\n",
    "      sep='\\n')"
   ]
  },
  {
   "cell_type": "code",
   "execution_count": 7,
   "id": "f10f9565-8330-4ed9-9c54-e8cd748039e6",
   "metadata": {},
   "outputs": [],
   "source": [
    "# init Morfeusz2 lemmatizer\n",
    "def init_lemmatizer():\n",
    "    return morfeusz2.Morfeusz()  # initialize Morfeusz object\n",
    "\n",
    "\n",
    "# lemmatize MWEs\n",
    "def lemmatize_mwe(mwe_list, lemmatizer) -> List[str]:\n",
    "    lemmatized_mwe_list = ['*' * 200 for _ in range(len(mwe_list))]\n",
    "\n",
    "    for i, mwe in enumerate(mwe_list):\n",
    "        mwe_words = [token for token in mwe.split(' ')]\n",
    "        lemmatized_mwe_list[i] = ' '.join(\n",
    "            [str(lemmatizer.analyse(word)[0][2][1]) if word not in string.punctuation else word for word in mwe_words])\n",
    "\n",
    "    return lemmatized_mwe_list"
   ]
  },
  {
   "cell_type": "code",
   "execution_count": 10,
   "id": "a55bca47-cf98-4f1c-8cda-3568dd6329a1",
   "metadata": {},
   "outputs": [
    {
     "name": "stdout",
     "output_type": "stream",
     "text": [
      "KGR10 correct intersection PARSEME correct: 439\n",
      "KGR10 correct intersection PARSEME incorrect: 1238\n",
      "KGR10 incorrect intersection PARSEME correct: 31\n",
      "KGR10 incorrect intersection PARSEME incorrect: 137\n"
     ]
    }
   ],
   "source": [
    "# compare with lemmatization\n",
    "lemmatizer = init_lemmatizer()\n",
    "\n",
    "parseme_train_incorrect_mwe_list_lemmatized = lemmatize_mwe(parseme_train_incorrect_mwe_list, lemmatizer)\n",
    "kgr10_correct_mwe_list_lemmatized = lemmatize_mwe(kgr10_correct_mwe_list, lemmatizer)\n",
    "kgr10_incorrect_mwe_list_lemmatized = lemmatize_mwe(kgr10_incorrect_mwe_list, lemmatizer)\n",
    "\n",
    "kgr10_corr_parseme_corr_intersect = set(kgr10_correct_mwe_list_lemmatized).intersection(set(parseme_train_correct_mwe_list_lemmatized))\n",
    "kgr10_corr_parseme_incorr_intersect = set(kgr10_correct_mwe_list_lemmatized).intersection(set(parseme_train_incorrect_mwe_list_lemmatized))\n",
    "\n",
    "kgr10_incorr_parseme_corr_intersect = set(kgr10_incorrect_mwe_list_lemmatized).intersection(set(parseme_train_correct_mwe_list_lemmatized))\n",
    "kgr10_incorr_parseme_incorr_intersect = set(kgr10_incorrect_mwe_list_lemmatized).intersection(set(parseme_train_incorrect_mwe_list_lemmatized))\n",
    "\n",
    "print(f'KGR10 correct intersection PARSEME correct: {len(kgr10_corr_parseme_corr_intersect)}',\n",
    "      f'KGR10 correct intersection PARSEME incorrect: {len(kgr10_corr_parseme_incorr_intersect)}',\n",
    "      f'KGR10 incorrect intersection PARSEME correct: {len(kgr10_incorr_parseme_corr_intersect)}',\n",
    "      f'KGR10 incorrect intersection PARSEME incorrect: {len(kgr10_incorr_parseme_incorr_intersect)}',\n",
    "      sep='\\n')"
   ]
  }
 ],
 "metadata": {
  "kernelspec": {
   "display_name": "Python 3 (ipykernel)",
   "language": "python",
   "name": "python3"
  },
  "language_info": {
   "codemirror_mode": {
    "name": "ipython",
    "version": 3
   },
   "file_extension": ".py",
   "mimetype": "text/x-python",
   "name": "python",
   "nbconvert_exporter": "python",
   "pygments_lexer": "ipython3",
   "version": "3.9.9"
  }
 },
 "nbformat": 4,
 "nbformat_minor": 5
}
